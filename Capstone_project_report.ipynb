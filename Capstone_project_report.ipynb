{
 "cells": [
  {
   "cell_type": "markdown",
   "metadata": {},
   "source": [
    "# Introduction"
   ]
  },
  {
   "cell_type": "markdown",
   "metadata": {},
   "source": [
    "This project intends to analyse and select where are the good locations in London to open a Chinese restaurant for a restaurant owner. Location planning is vital for a brick and mortar business. Opening a restaurant requires significant upfront fixed costs therefore choosing the right location is vital to the success of a restaurant. This project will cluster a range of factors that contribute to the appropriateness of the location and recommend a short list of locations to the restaurant owner using quantitative method learnt in this Data Science course."
   ]
  },
  {
   "cell_type": "markdown",
   "metadata": {},
   "source": [
    "# Data"
   ]
  },
  {
   "cell_type": "markdown",
   "metadata": {},
   "source": [
    "Data I used to solve the problem and their sources are detailed below:\n",
    "1.\tList of London boroughs and local authorities, their area size, population and geo-coordinates. These data are scrapped from Wikipedia.\n",
    "2.\tVenue data from Foursqaure which includes name, geo-coordinates and category for each London borough.\n"
   ]
  },
  {
   "cell_type": "markdown",
   "metadata": {},
   "source": [
    "# Methodology"
   ]
  },
  {
   "cell_type": "markdown",
   "metadata": {},
   "source": [
    "First step is to get all the information required on London boroughs. I scrapped a Wikipedia page which contains location data, along with additional information concerning the boroughs. Firstly I stored table data in a text file then I created a pandas data frame with the table contents. In this process, I removed excess rows and columns with no information and cleaned the geo-coordinates so they are stored in the right format to be used for later analysis. \n",
    "\n",
    "Next I extracted Foursquare venue information for each London borough. I grouped venues by category and counted the number of venues in each category per borough. Then I created another data frame to prepare for the clustering analysis that ranked the top 10 venue types in each borough. For example, the most common venue in Kensington and Chelsea is cafes. Second most common one is garden etc. \n",
    "\n",
    "\n",
    "The machine learning method I used is K-means clustering. I wanted to cluster the London boroughs into 8 clusters.\n",
    "\n",
    "I intended to pick boroughs that have the attributes we desire, and within that cluster I would pick the most desirable borough to open the restaurant.\n",
    "Location criteria are:\n",
    "- has a significant number of restaurants out of all venues uncovered (likely to attract diners)\n",
    "- has a low number of Chinese restaurants (market not saturated)\n",
    "- the share of Chinese restaurants out of all restaurants is relatively low (good diversifier)\n",
    "- has a significant number of bars/pubs (people tend to eat more unhealthy food (Chinese food is quite unhealthy) when consuming alcohol\n",
    "- has a significant number of hotels (Chinese food is unhealthy, so it's not recommended to have it often - thus the number of repeat customers is small; tourists, on the other hand, tend to want to try new things, and areas with plenty of hotels guarantee a constant flow of tourists, who are more likely to be the major customer base of our Chinese restaurant)\n",
    "- has a relatively low number of gyms (health-aware people are less likely to consume Chinese food regularly)\n",
    "- densely populated and have offices (takeaway potential)\n",
    "\n"
   ]
  },
  {
   "cell_type": "markdown",
   "metadata": {},
   "source": [
    "# Results"
   ]
  },
  {
   "cell_type": "markdown",
   "metadata": {},
   "source": [
    "I visualised the resulting 8 clusters on a folium map for ease of interpreting the results. One cluster with 3 boroughs (City of London, Southwark and Westminster) appeared to satisfy my location selection criteria. It has a lot of restaurants but none of them are Chinese restaurants. It has plenty of bars/pubs, few gyms and some hotels.\n",
    "\n",
    "Another cluster (cluster 1) consists of 5 relatively residential boroughs. As Chinese food is unhealthy, there would be fewer repeat customers as it’s not recommended to have Chinese food too regularly therefore I prefer more touristy boroughs with many hotels.  \n",
    "\n",
    "Cluster 2 is similar to cluster 0 in the way that there are some pubs/bars but few hotels. There are already a small number of existing Chinese restaurants so there will be an element of competition. \n",
    "\n"
   ]
  },
  {
   "cell_type": "markdown",
   "metadata": {},
   "source": [
    "# Recommendations"
   ]
  },
  {
   "cell_type": "markdown",
   "metadata": {},
   "source": [
    "From weighing up all the location selection criteria, cluster 0 has the most desirable attributes due to the following factors:\n",
    "- relatively high number of restaurants\n",
    "- no Chinese restaurants\n",
    "- plenty of bars/pubs\n",
    "- plenty of hotels\n",
    "- few gyms\n"
   ]
  },
  {
   "cell_type": "markdown",
   "metadata": {},
   "source": [
    "# Conclusions"
   ]
  },
  {
   "cell_type": "markdown",
   "metadata": {},
   "source": [
    "Out of the 3 preferred boroughs in Cluster 0, Southwark is the most preferred location for the new Chinese restaurant because it is more densely populate than the other two. \n",
    "\n"
   ]
  },
  {
   "cell_type": "code",
   "execution_count": null,
   "metadata": {},
   "outputs": [],
   "source": []
  }
 ],
 "metadata": {
  "kernelspec": {
   "display_name": "Python 3",
   "language": "python",
   "name": "python3"
  },
  "language_info": {
   "codemirror_mode": {
    "name": "ipython",
    "version": 3
   },
   "file_extension": ".py",
   "mimetype": "text/x-python",
   "name": "python",
   "nbconvert_exporter": "python",
   "pygments_lexer": "ipython3",
   "version": "3.6.5"
  }
 },
 "nbformat": 4,
 "nbformat_minor": 2
}
